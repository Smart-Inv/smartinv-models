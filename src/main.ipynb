{
 "cells": [
  {
   "cell_type": "code",
   "execution_count": null,
   "id": "0",
   "metadata": {},
   "outputs": [],
   "source": [
    "import pandas as pd\n",
    "import numpy as np\n",
    "import seaborn as sns\n",
    "import matplotlib.pyplot as plt"
   ]
  },
  {
   "cell_type": "markdown",
   "id": "1",
   "metadata": {},
   "source": [
    "## EDA"
   ]
  },
  {
   "cell_type": "code",
   "execution_count": null,
   "id": "2",
   "metadata": {},
   "outputs": [],
   "source": [
    "df = pd.read_csv('dataset.csv')\n",
    "df.sample(5)"
   ]
  },
  {
   "cell_type": "code",
   "execution_count": null,
   "id": "3",
   "metadata": {},
   "outputs": [],
   "source": [
    "df.info()"
   ]
  },
  {
   "cell_type": "code",
   "execution_count": null,
   "id": "4",
   "metadata": {},
   "outputs": [],
   "source": [
    "def plot_products(df):\n",
    "    product_counts = df[\"nombre_producto\"].value_counts()\n",
    "    print(f\"Total number of products is: {len(product_counts)}\")\n",
    "\n",
    "    plt.figure(figsize=(12, 6))\n",
    "    product_counts.plot(kind='bar')\n",
    "    \n",
    "    plt.xticks(rotation=45, ha='right')\n",
    "    plt.tight_layout()\n",
    "    plt.xlabel(\"Nombre del Producto\")\n",
    "    plt.ylabel(\"Cantidad\")\n",
    "    plt.title(\"Productos de tienda Dummy\")\n",
    "    plt.show()\n",
    "\n",
    "def plot_products_categories(df):\n",
    "    product_counts = df[\"categoria\"].value_counts()\n",
    "    print(f\"Total number of products categories is: {len(product_counts)}\")\n",
    "\n",
    "    plt.figure(figsize=(12, 6))\n",
    "    product_counts.plot(kind='bar')\n",
    "    \n",
    "    plt.xticks(rotation=45, ha='right')\n",
    "    plt.tight_layout()\n",
    "    plt.xlabel(\"Categoría\")\n",
    "    plt.ylabel(\"Cantidad\")\n",
    "    plt.title(\"Categorías de productos de tienda Dummy\")\n",
    "    plt.show()"
   ]
  },
  {
   "cell_type": "code",
   "execution_count": null,
   "id": "5",
   "metadata": {},
   "outputs": [],
   "source": [
    "plot_products(df)\n",
    "plot_products_categories(df)"
   ]
  },
  {
   "cell_type": "markdown",
   "id": "6",
   "metadata": {},
   "source": [
    "Por cantidad no se refiere a stock total, sino las veces que aparece en el .csv dicho producto (como fila).\n",
    "\n",
    "5 categorías, especial incapie en deportivas y botas."
   ]
  },
  {
   "cell_type": "code",
   "execution_count": null,
   "id": "7",
   "metadata": {},
   "outputs": [],
   "source": [
    "df.describe()"
   ]
  },
  {
   "cell_type": "markdown",
   "id": "8",
   "metadata": {},
   "source": [
    "No se puede ver la evolución del stock, ni de las unidades vendidas ni del precio. Vamos a tirar por ahí."
   ]
  },
  {
   "cell_type": "code",
   "execution_count": null,
   "id": "9",
   "metadata": {},
   "outputs": [],
   "source": [
    "import pandas as pd\n",
    "import matplotlib.pyplot as plt\n",
    "\n",
    "def plot_stock_variations(df, productos=None):\n",
    "    df[\"fecha\"] = pd.to_datetime(df[\"fecha\"])\n",
    "\n",
    "    if productos is None:\n",
    "        productos_disponibles = df[\"nombre_producto\"].unique()\n",
    "        raise ValueError(f\"No se especificaron productos.\\nProductos disponibles: {productos_disponibles}\")\n",
    "\n",
    "    if isinstance(productos, str):\n",
    "        productos = [productos]\n",
    "\n",
    "    for producto in productos:\n",
    "        df_prod = df[df[\"nombre_producto\"] == producto]\n",
    "        \n",
    "        # Agrupamos por fecha para asegurarnos de no tener múltiples valores por mes\n",
    "        df_prod = df_prod.groupby(\"fecha\")[[\"stock_inicial\", \"stock_final\"]].sum().reset_index()\n",
    "\n",
    "        plt.figure(figsize=(12, 5))\n",
    "        plt.plot(df_prod[\"fecha\"], df_prod[\"stock_inicial\"], label=\"Stock Inicial\", linestyle=\"--\")\n",
    "        plt.plot(df_prod[\"fecha\"], df_prod[\"stock_final\"], label=\"Stock Final\", linestyle=\"-\")\n",
    "\n",
    "        plt.title(f\"Evolución del Stock - {producto}\")\n",
    "        plt.xlabel(\"Fecha\")\n",
    "        plt.ylabel(\"Unidades en Stock\")\n",
    "        plt.legend()\n",
    "        plt.grid(True)\n",
    "        plt.tight_layout()\n",
    "        plt.show()"
   ]
  },
  {
   "cell_type": "code",
   "execution_count": null,
   "id": "10",
   "metadata": {},
   "outputs": [],
   "source": [
    "plot_stock_variations(df, productos=list(df[\"nombre_producto\"].unique()))"
   ]
  },
  {
   "cell_type": "markdown",
   "id": "11",
   "metadata": {},
   "source": [
    "Al ser un dataset sintético, no vemos problemas. Casi siempre hay un excedente de stock, pero podemos ver en qué meses y para qué productos hemos vendido todo el stock en dicho mes."
   ]
  }
 ],
 "metadata": {
  "kernelspec": {
   "display_name": "Python 3 (ipykernel)",
   "language": "python",
   "name": "python3"
  },
  "language_info": {
   "codemirror_mode": {
    "name": "ipython",
    "version": 3
   },
   "file_extension": ".py",
   "mimetype": "text/x-python",
   "name": "python",
   "nbconvert_exporter": "python",
   "pygments_lexer": "ipython3",
   "version": "3.11.11"
  }
 },
 "nbformat": 4,
 "nbformat_minor": 5
}
