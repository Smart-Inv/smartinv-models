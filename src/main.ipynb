{
 "cells": [
  {
   "cell_type": "code",
   "execution_count": null,
   "id": "0",
   "metadata": {},
   "outputs": [],
   "source": [
    "import pandas as pd\n",
    "import numpy as np\n",
    "import seaborn as sns\n",
    "import matplotlib.pyplot as plt"
   ]
  },
  {
   "cell_type": "markdown",
   "id": "1",
   "metadata": {},
   "source": [
    "## EDA"
   ]
  },
  {
   "cell_type": "code",
   "execution_count": null,
   "id": "2",
   "metadata": {},
   "outputs": [],
   "source": [
    "df = pd.read_csv('dataset.csv')\n",
    "df.sample(5)"
   ]
  },
  {
   "cell_type": "code",
   "execution_count": null,
   "id": "3",
   "metadata": {},
   "outputs": [],
   "source": [
    "df.info()"
   ]
  },
  {
   "cell_type": "code",
   "execution_count": null,
   "id": "4",
   "metadata": {},
   "outputs": [],
   "source": [
    "def plot_products(df):\n",
    "    product_counts = df[\"nombre_producto\"].value_counts()\n",
    "    print(f\"Total number of products is: {len(product_counts)}\")\n",
    "\n",
    "    plt.figure(figsize=(12, 6))\n",
    "    product_counts.plot(kind='bar')\n",
    "    \n",
    "    plt.xticks(rotation=45, ha='right')\n",
    "    plt.tight_layout()\n",
    "    plt.xlabel(\"Nombre del Producto\")\n",
    "    plt.ylabel(\"Cantidad\")\n",
    "    plt.title(\"Productos de tienda Dummy\")\n",
    "    plt.show()\n",
    "\n",
    "def plot_products_categories(df):\n",
    "    product_counts = df[\"categoria\"].value_counts()\n",
    "    print(f\"Total number of products categories is: {len(product_counts)}\")\n",
    "\n",
    "    plt.figure(figsize=(12, 6))\n",
    "    product_counts.plot(kind='bar')\n",
    "    \n",
    "    plt.xticks(rotation=45, ha='right')\n",
    "    plt.tight_layout()\n",
    "    plt.xlabel(\"Categoría\")\n",
    "    plt.ylabel(\"Cantidad\")\n",
    "    plt.title(\"Categorías de productos de tienda Dummy\")\n",
    "    plt.show()"
   ]
  },
  {
   "cell_type": "code",
   "execution_count": null,
   "id": "5",
   "metadata": {},
   "outputs": [],
   "source": [
    "plot_products(df)\n",
    "plot_products_categories(df)"
   ]
  },
  {
   "cell_type": "markdown",
   "id": "6",
   "metadata": {},
   "source": [
    "Por cantidad no se refiere a stock total, sino las veces que aparece en el .csv dicho producto (como fila).\n",
    "\n",
    "5 categorías, especial incapie en deportivas y botas."
   ]
  },
  {
   "cell_type": "code",
   "execution_count": null,
   "id": "7",
   "metadata": {},
   "outputs": [],
   "source": [
    "df.describe()"
   ]
  },
  {
   "cell_type": "code",
   "execution_count": null,
   "id": "8",
   "metadata": {},
   "outputs": [],
   "source": [
    "df = df.drop(columns=[\"producto_id\"])"
   ]
  },
  {
   "cell_type": "markdown",
   "id": "9",
   "metadata": {},
   "source": [
    "No se puede ver la evolución del stock, ni de las unidades vendidas ni del precio. Vamos a tirar por ahí."
   ]
  },
  {
   "cell_type": "code",
   "execution_count": null,
   "id": "10",
   "metadata": {},
   "outputs": [],
   "source": [
    "import pandas as pd\n",
    "import matplotlib.pyplot as plt\n",
    "\n",
    "def plot_stock_variations(df, productos=None):\n",
    "    df[\"fecha\"] = pd.to_datetime(df[\"fecha\"])\n",
    "\n",
    "    if productos is None:\n",
    "        productos_disponibles = df[\"nombre_producto\"].unique()\n",
    "        raise ValueError(f\"No se especificaron productos.\\nProductos disponibles: {productos_disponibles}\")\n",
    "\n",
    "    if isinstance(productos, str):\n",
    "        productos = [productos]\n",
    "\n",
    "    for producto in productos:\n",
    "        df_prod = df[df[\"nombre_producto\"] == producto]\n",
    "        \n",
    "        # Agrupamos por fecha para asegurarnos de no tener múltiples valores por mes\n",
    "        df_prod = df_prod.groupby(\"fecha\")[[\"stock_inicial\", \"stock_final\"]].sum().reset_index()\n",
    "\n",
    "        plt.figure(figsize=(12, 5))\n",
    "        plt.plot(df_prod[\"fecha\"], df_prod[\"stock_inicial\"], label=\"Stock Inicial\", linestyle=\"--\")\n",
    "        plt.plot(df_prod[\"fecha\"], df_prod[\"stock_final\"], label=\"Stock Final\", linestyle=\"-\")\n",
    "\n",
    "        plt.title(f\"Evolución del Stock - {producto}\")\n",
    "        plt.xlabel(\"Fecha\")\n",
    "        plt.ylabel(\"Unidades en Stock\")\n",
    "        plt.legend()\n",
    "        plt.grid(True)\n",
    "        plt.tight_layout()\n",
    "        plt.show()"
   ]
  },
  {
   "cell_type": "code",
   "execution_count": null,
   "id": "11",
   "metadata": {},
   "outputs": [],
   "source": [
    "plot_stock_variations(df, productos=list(df[\"nombre_producto\"].unique()))"
   ]
  },
  {
   "cell_type": "markdown",
   "id": "12",
   "metadata": {},
   "source": [
    "Al ser un dataset sintético, no vemos problemas. Casi siempre hay un excedente de stock, pero podemos ver en qué meses y para qué productos hemos vendido todo el stock en dicho mes."
   ]
  },
  {
   "cell_type": "markdown",
   "id": "13",
   "metadata": {},
   "source": [
    "## Correlaciones\n",
    "\n",
    "Tendríamos que ver las correlaciones que hay entre ciertas variables."
   ]
  },
  {
   "cell_type": "code",
   "execution_count": null,
   "id": "14",
   "metadata": {},
   "outputs": [],
   "source": [
    "def plot_correlations(df):   \n",
    "    numerical_variables = df.select_dtypes(include=[\"number\"]).columns.tolist()\n",
    "    # Calculate correlation matrices for train_data and test_data\n",
    "    corr_train = df[numerical_variables].corr()\n",
    "    \n",
    "    # Create masks for the upper triangle\n",
    "    mask_train = np.triu(np.ones_like(corr_train, dtype=bool))\n",
    "    \n",
    "    # Set the text size and rotation\n",
    "    annot_kws = {\"size\": 8, \"rotation\": 45}\n",
    "    \n",
    "    # Generate heatmaps for train_data\n",
    "    plt.figure(figsize=(15, 8))\n",
    "    plt.subplot(1, 2, 1)\n",
    "    ax_train = sns.heatmap(corr_train, mask=mask_train, cmap='viridis', annot=True,\n",
    "                          square=True, linewidths=.5, xticklabels=1, yticklabels=1, annot_kws=annot_kws)\n",
    "    plt.title('Correlation Heatmap - Train Data')\n",
    "    \n",
    "    # Adjust layout\n",
    "    plt.tight_layout()\n",
    "    \n",
    "    # Show the plots\n",
    "    plt.show()"
   ]
  },
  {
   "cell_type": "code",
   "execution_count": null,
   "id": "15",
   "metadata": {},
   "outputs": [],
   "source": [
    "plot_correlations(df)"
   ]
  },
  {
   "cell_type": "markdown",
   "id": "16",
   "metadata": {},
   "source": [
    "Podemos sacar conclusiones lógicas:\n",
    "\n",
    "1. Si el stock final es grande, las unidades vendidas son bajas, por lo que se estima que no hace falta renovar en exceso el stock\n",
    "2. Si no se ha repuesto este mes, significa que las unidades vendidas no han sido muy altas\n",
    "3. Existe una relación curiosa con stock_final, reposicion_este_mes y stock_inicial. Correlación positiva.\n",
    "4. Si hay una promoción o un evento especial (asumiendo que este sea positivo para el negocio), las ventas crecen.\n",
    "5. Si te has quedado sin stock durante un mes, es más probable que repongas para el próximo.altas\n",
    "\n",
    "**IMPORTANTE**\n",
    "\n",
    "Nuestra `Y_pred` = reponer_proximo_mes"
   ]
  },
  {
   "cell_type": "markdown",
   "id": "17",
   "metadata": {},
   "source": [
    "## Estacionalidad\n",
    "\n",
    "Es un modelo de predicción, es importante discernir entre estaciones del año. Tenemos:\n",
    "- Invierno (Diciembre-Febrero)\n",
    "- Primavera (Marzo-Mayo)\n",
    "- Verano (Junio-Agosto)\n",
    "- Otoño (Septiembre-Noviembre)"
   ]
  },
  {
   "cell_type": "code",
   "execution_count": null,
   "id": "18",
   "metadata": {},
   "outputs": [],
   "source": [
    "stations = {\n",
    "    \"winter\": [12, 1, 2], \n",
    "    \"spring\": [3, 4, 5], \n",
    "    \"summer\": [6, 7, 8], \n",
    "    \"autumn\": [9, 10, 11]}\n",
    "\n",
    "def add_stations(df):\n",
    "    def get_station(mes):\n",
    "        for estacion, meses in stations.items():\n",
    "            if mes in meses:\n",
    "                return estacion\n",
    "        return \"desconocido\" # empty value\n",
    "\n",
    "    df[\"estacion\"] = df[\"mes\"].apply(get_station)\n",
    "    return df"
   ]
  },
  {
   "cell_type": "code",
   "execution_count": null,
   "id": "19",
   "metadata": {},
   "outputs": [],
   "source": [
    "df = add_stations(df)"
   ]
  },
  {
   "cell_type": "code",
   "execution_count": null,
   "id": "20",
   "metadata": {},
   "outputs": [],
   "source": [
    "df.sample(5)"
   ]
  },
  {
   "cell_type": "markdown",
   "id": "21",
   "metadata": {},
   "source": [
    "Importante destacar que el modelo no entiende caracteres, sino números. Tenemos que hacer un `encoding`.\n",
    "\n",
    "- OneHot-encoding: es lo que tenemos que hacer\n",
    "- Label Encoding: puede ir bien, pero puede añadir un orden artificial. No interesa"
   ]
  },
  {
   "cell_type": "code",
   "execution_count": null,
   "id": "22",
   "metadata": {},
   "outputs": [],
   "source": [
    "def convert_into_onehot(df, columns):\n",
    "    dummies = pd.get_dummies(df[columns], prefix=columns).astype(int)\n",
    "    df = df.drop(columns=columns)\n",
    "    df = df.join(dummies)\n",
    "    return df"
   ]
  },
  {
   "cell_type": "code",
   "execution_count": null,
   "id": "23",
   "metadata": {},
   "outputs": [],
   "source": [
    "df = convert_into_onehot(df, [\"estacion\"])"
   ]
  },
  {
   "cell_type": "code",
   "execution_count": null,
   "id": "24",
   "metadata": {},
   "outputs": [],
   "source": [
    "df[\"fecha\"] = pd.to_datetime(df[\"fecha\"])\n",
    "# se podría hacer day_of_the_week, is_weekend, trimetre... pero nuestro dataset no tiene esos datos\n",
    "df = df.drop(columns=[\"fecha\"])"
   ]
  },
  {
   "cell_type": "code",
   "execution_count": null,
   "id": "25",
   "metadata": {},
   "outputs": [],
   "source": [
    "df.sample(5)"
   ]
  },
  {
   "cell_type": "code",
   "execution_count": null,
   "id": "26",
   "metadata": {},
   "outputs": [],
   "source": [
    "plot_correlations(df)"
   ]
  },
  {
   "cell_type": "markdown",
   "id": "27",
   "metadata": {},
   "source": [
    "## Procesamiento de los productos \n",
    "\n",
    "De la misma manera, tenemos que convertir los productos y sus categorias con el One Hot Encoding."
   ]
  },
  {
   "cell_type": "code",
   "execution_count": null,
   "id": "28",
   "metadata": {},
   "outputs": [],
   "source": [
    "df = convert_into_onehot(df, [\"nombre_producto\", \"categoria\"])"
   ]
  },
  {
   "cell_type": "code",
   "execution_count": null,
   "id": "29",
   "metadata": {},
   "outputs": [],
   "source": [
    "df.sample(5)"
   ]
  },
  {
   "cell_type": "markdown",
   "id": "30",
   "metadata": {},
   "source": [
    "## Modelo Predictivo"
   ]
  }
 ],
 "metadata": {
  "kernelspec": {
   "display_name": "Python 3 (ipykernel)",
   "language": "python",
   "name": "python3"
  },
  "language_info": {
   "codemirror_mode": {
    "name": "ipython",
    "version": 3
   },
   "file_extension": ".py",
   "mimetype": "text/x-python",
   "name": "python",
   "nbconvert_exporter": "python",
   "pygments_lexer": "ipython3",
   "version": "3.11.11"
  }
 },
 "nbformat": 4,
 "nbformat_minor": 5
}
